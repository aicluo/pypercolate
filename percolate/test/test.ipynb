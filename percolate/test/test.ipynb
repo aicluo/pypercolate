{
 "cells": [
  {
   "cell_type": "code",
   "execution_count": 1,
   "metadata": {},
   "outputs": [],
   "source": [
    "import sys \n",
    "import os\n",
    "sys.path.append(os.path.abspath(\"C:/Users/aiclu/Desktop/CS/pypercolate/percolate\"))\n",
    "\n",
    "import percolate\n",
    "import numpy as np\n",
    "import scipy.stats\n",
    "from matplotlib import pyplot as plt"
   ]
  },
  {
   "cell_type": "code",
   "execution_count": 2,
   "metadata": {},
   "outputs": [],
   "source": [
    "import networkx as nx"
   ]
  },
  {
   "cell_type": "code",
   "execution_count": 3,
   "metadata": {},
   "outputs": [],
   "source": [
    "\n",
    "grid = percolate.spanning_2d_grid(3)\n",
    "chain = percolate.spanning_1d_chain(length=10)\n"
   ]
  },
  {
   "cell_type": "code",
   "execution_count": 18,
   "metadata": {},
   "outputs": [
    {
     "ename": "KeyError",
     "evalue": "0",
     "output_type": "error",
     "traceback": [
      "\u001b[1;31m---------------------------------------------------------------------------\u001b[0m",
      "\u001b[1;31mKeyError\u001b[0m                                  Traceback (most recent call last)",
      "Cell \u001b[1;32mIn[18], line 2\u001b[0m\n\u001b[0;32m      1\u001b[0m graph\u001b[38;5;241m=\u001b[39m nx\u001b[38;5;241m.\u001b[39mrandom_geometric_graph(\u001b[38;5;241m5\u001b[39m, \u001b[38;5;241m5\u001b[39m)\n\u001b[1;32m----> 2\u001b[0m \u001b[43mgraph\u001b[49m\u001b[38;5;241;43m.\u001b[39;49m\u001b[43mnodes\u001b[49m\u001b[43m[\u001b[49m\u001b[38;5;241;43m0\u001b[39;49m\u001b[43m]\u001b[49m\u001b[43m[\u001b[49m\u001b[38;5;241;43m0\u001b[39;49m\u001b[43m]\u001b[49m\n",
      "\u001b[1;31mKeyError\u001b[0m: 0"
     ]
    }
   ],
   "source": [
    "graph= nx.random_geometric_graph(5, 5)\n",
    "graph.nodes[0][0]\n"
   ]
  },
  {
   "cell_type": "code",
   "execution_count": 29,
   "metadata": {},
   "outputs": [
    {
     "data": {
      "text/plain": [
       "<module 'percolate' from 'C:\\\\Users\\\\aiclu\\\\Desktop\\\\CS\\\\pypercolate\\\\percolate\\\\percolate.py'>"
      ]
     },
     "execution_count": 29,
     "metadata": {},
     "output_type": "execute_result"
    }
   ],
   "source": [
    "from importlib import reload\n",
    "reload(percolate)"
   ]
  },
  {
   "cell_type": "code",
   "execution_count": 31,
   "metadata": {},
   "outputs": [
    {
     "name": "stdout",
     "output_type": "stream",
     "text": [
      "{'n': 0, 'N': 10, 'M': 9, 'max_cluster_size': 1, 'moments': array([9., 9., 9., 9., 9.]), 'has_spanning_cluster': False}\n",
      "{'n': 1, 'N': 10, 'M': 9, 'max_cluster_size': 2, 'moments': array([8., 8., 8., 8., 8.]), 'has_spanning_cluster': False, 'edge': (8, 9)}\n",
      "{'n': 2, 'N': 10, 'M': 9, 'max_cluster_size': 3, 'moments': array([7., 7., 7., 7., 7.]), 'has_spanning_cluster': False, 'edge': (7, 8)}\n",
      "{'n': 3, 'N': 10, 'M': 9, 'max_cluster_size': 3, 'moments': array([ 6.,  7.,  9., 13., 21.]), 'has_spanning_cluster': False, 'edge': (2, 3)}\n",
      "{'n': 4, 'N': 10, 'M': 9, 'max_cluster_size': 3, 'moments': array([ 5.,  7., 13., 31., 85.]), 'has_spanning_cluster': False, 'edge': (1, 2)}\n",
      "{'n': 5, 'N': 10, 'M': 9, 'max_cluster_size': 4, 'moments': array([ 4.,  6., 12., 30., 84.]), 'has_spanning_cluster': False, 'edge': (3, 4)}\n",
      "{'n': 6, 'N': 10, 'M': 9, 'max_cluster_size': 4, 'moments': array([  3.,   6.,  18.,  66., 258.]), 'has_spanning_cluster': False, 'edge': (9, 10)}\n",
      "{'n': 7, 'N': 10, 'M': 9, 'max_cluster_size': 5, 'moments': array([  2.,   5.,  17.,  65., 257.]), 'has_spanning_cluster': False, 'edge': (4, 5)}\n",
      "{'n': 8, 'N': 10, 'M': 9, 'max_cluster_size': 5, 'moments': array([  1.,   5.,  25., 125., 625.]), 'has_spanning_cluster': False, 'edge': (6, 7)}\n",
      "{'n': 9, 'N': 10, 'M': 9, 'max_cluster_size': 10, 'moments': array([0., 0., 0., 0., 0.]), 'has_spanning_cluster': True, 'edge': (5, 6)}\n"
     ]
    },
    {
     "data": {
      "image/png": "[encoded data removed]",
      "text/plain": [
       "<Figure size 800x200 with 10 Axes>"
      ]
     },
     "metadata": {},
     "output_type": "display_data"
    }
   ],
   "source": [
    "edges = list()\n",
    "fig, axes = plt.subplots(figsize=(8.0, 2.0), ncols=5, nrows=2, squeeze=True)\n",
    "axes = axes.ravel()\n",
    "for i, sample_state in enumerate(percolate.sample_states(chain)):\n",
    "    if 'edge' in sample_state:\n",
    "        edge = sample_state['edge']\n",
    "        edges.append(edge)\n",
    "    nx.draw(\n",
    "        chain,\n",
    "        ax=axes[i],\n",
    "        edgelist=edges,\n",
    "        width=4,\n",
    "        pos={node: (node, 0) for node in chain.nodes()},\n",
    "        node_size=10,\n",
    "    )\n",
    "    axes[i].set_title('n = {}'.format(i))\n",
    "    print(sample_state)\n",
    "plt.tight_layout()\n",
    "plt.show()"
   ]
  }
 ],
 "metadata": {
  "kernelspec": {
   "display_name": ".venv",
   "language": "python",
   "name": "python3"
  },
  "language_info": {
   "codemirror_mode": {
    "name": "ipython",
    "version": 3
   },
   "file_extension": ".py",
   "mimetype": "text/x-python",
   "name": "python",
   "nbconvert_exporter": "python",
   "pygments_lexer": "ipython3",
   "version": "3.10.6"
  }
 },
 "nbformat": 4,
 "nbformat_minor": 2
}
